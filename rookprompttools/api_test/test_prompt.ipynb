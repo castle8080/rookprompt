{
 "cells": [
  {
   "cell_type": "markdown",
   "id": "b2951d89-9bc0-4ae8-a5ee-03dc38eb8a1e",
   "metadata": {},
   "source": [
    "# Test Prompt API"
   ]
  },
  {
   "cell_type": "code",
   "execution_count": 1,
   "id": "16859ee6-03a7-4ef0-b7c2-d8f40e69edbb",
   "metadata": {},
   "outputs": [],
   "source": [
    "import requests\n",
    "import json\n",
    "from IPython.display import display, JSON"
   ]
  },
  {
   "cell_type": "code",
   "execution_count": 9,
   "id": "57d31d22-d974-49ca-80df-27cc6d04586a",
   "metadata": {},
   "outputs": [],
   "source": [
    "endpoint = \"https://localhost:7275/api\""
   ]
  },
  {
   "cell_type": "markdown",
   "id": "f1271594-33d0-4463-879f-0223d0f06023",
   "metadata": {},
   "source": [
    "## List Prompts"
   ]
  },
  {
   "cell_type": "code",
   "execution_count": 10,
   "id": "300de3c6-292a-486c-888e-63ac04d77ad8",
   "metadata": {},
   "outputs": [
    {
     "name": "stderr",
     "output_type": "stream",
     "text": [
      "c:\\users\\bryan\\source\\repos\\rookprompt\\rookprompttools\\venv\\lib\\site-packages\\urllib3\\connectionpool.py:1050: InsecureRequestWarning: Unverified HTTPS request is being made to host 'localhost'. Adding certificate verification is strongly advised. See: https://urllib3.readthedocs.io/en/1.26.x/advanced-usage.html#ssl-warnings\n",
      "  InsecureRequestWarning,\n"
     ]
    },
    {
     "data": {
      "application/json": [
       {
        "created": "2022-02-28T15:51:06.24Z",
        "id": "621cef6a017937e2c7aff1e7",
        "prompt": "Describe a moment of fear.",
        "updated": "2022-02-28T16:29:30.783Z"
       },
       {
        "created": "2022-02-28T16:30:43.122Z",
        "id": "621cf8b330490557e064c633",
        "prompt": "What is a good language to learn and why?",
        "updated": "2022-03-01T00:49:18.091Z"
       }
      ],
      "text/plain": [
       "<IPython.core.display.JSON object>"
      ]
     },
     "execution_count": 10,
     "metadata": {
      "application/json": {
       "expanded": false,
       "root": "root"
      }
     },
     "output_type": "execute_result"
    }
   ],
   "source": [
    "prompts = requests.get(f\"{endpoint}/prompts\", verify=False).json()\n",
    "JSON(prompts)"
   ]
  },
  {
   "cell_type": "markdown",
   "id": "fb1b4b71-9655-4aac-a5ef-204872fd82cb",
   "metadata": {},
   "source": [
    "## Get a Random Prompt"
   ]
  },
  {
   "cell_type": "code",
   "execution_count": 11,
   "id": "ba425b48-b8ef-49be-a396-51909bdb24ae",
   "metadata": {},
   "outputs": [
    {
     "name": "stderr",
     "output_type": "stream",
     "text": [
      "c:\\users\\bryan\\source\\repos\\rookprompt\\rookprompttools\\venv\\lib\\site-packages\\urllib3\\connectionpool.py:1050: InsecureRequestWarning: Unverified HTTPS request is being made to host 'localhost'. Adding certificate verification is strongly advised. See: https://urllib3.readthedocs.io/en/1.26.x/advanced-usage.html#ssl-warnings\n",
      "  InsecureRequestWarning,\n"
     ]
    },
    {
     "data": {
      "application/json": {
       "created": "2022-02-28T15:51:06.24Z",
       "id": "621cef6a017937e2c7aff1e7",
       "prompt": "Describe a moment of fear.",
       "updated": "2022-02-28T16:29:30.783Z"
      },
      "text/plain": [
       "<IPython.core.display.JSON object>"
      ]
     },
     "execution_count": 11,
     "metadata": {
      "application/json": {
       "expanded": false,
       "root": "root"
      }
     },
     "output_type": "execute_result"
    }
   ],
   "source": [
    "prompt = requests.get(f\"{endpoint}/prompts/random\", verify=False).json()\n",
    "JSON(prompt)"
   ]
  },
  {
   "cell_type": "markdown",
   "id": "8bc08b19-4960-4227-b844-9d84e7514657",
   "metadata": {},
   "source": [
    "## Add A Prompt"
   ]
  },
  {
   "cell_type": "code",
   "execution_count": 14,
   "id": "f890cc5d-6ad3-403a-8962-3071bc93ad05",
   "metadata": {},
   "outputs": [
    {
     "name": "stderr",
     "output_type": "stream",
     "text": [
      "c:\\users\\bryan\\source\\repos\\rookprompt\\rookprompttools\\venv\\lib\\site-packages\\urllib3\\connectionpool.py:1050: InsecureRequestWarning: Unverified HTTPS request is being made to host 'localhost'. Adding certificate verification is strongly advised. See: https://urllib3.readthedocs.io/en/1.26.x/advanced-usage.html#ssl-warnings\n",
      "  InsecureRequestWarning,\n"
     ]
    },
    {
     "data": {
      "application/json": {
       "created": "2022-02-28T16:30:43.122Z",
       "id": "621cf8b330490557e064c633",
       "prompt": "What is a good language to learn and why?",
       "updated": "2022-03-03T16:22:42.0415447Z"
      },
      "text/plain": [
       "<IPython.core.display.JSON object>"
      ]
     },
     "execution_count": 14,
     "metadata": {
      "application/json": {
       "expanded": false,
       "root": "root"
      }
     },
     "output_type": "execute_result"
    }
   ],
   "source": [
    "prompt = {\n",
    "    \"prompt\": \"What is a good language to learn and why?\"\n",
    "}\n",
    "r = requests.post(f\"{endpoint}/prompts\", json=prompt, verify=False).json()\n",
    "JSON(r)"
   ]
  },
  {
   "cell_type": "code",
   "execution_count": null,
   "id": "dcedcdf7-4e86-45c7-b03b-dbb52f681384",
   "metadata": {},
   "outputs": [],
   "source": []
  }
 ],
 "metadata": {
  "kernelspec": {
   "display_name": "Python 3 (ipykernel)",
   "language": "python",
   "name": "python3"
  },
  "language_info": {
   "codemirror_mode": {
    "name": "ipython",
    "version": 3
   },
   "file_extension": ".py",
   "mimetype": "text/x-python",
   "name": "python",
   "nbconvert_exporter": "python",
   "pygments_lexer": "ipython3",
   "version": "3.7.6"
  }
 },
 "nbformat": 4,
 "nbformat_minor": 5
}
