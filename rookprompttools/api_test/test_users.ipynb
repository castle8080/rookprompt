{
 "cells": [
  {
   "cell_type": "markdown",
   "id": "75bd5d0d-0a86-493a-bea0-fd75d9055600",
   "metadata": {},
   "source": [
    "# Test Users"
   ]
  },
  {
   "cell_type": "code",
   "execution_count": 1,
   "id": "c0cc1255-f1c2-4603-85b8-10ff6c940bb6",
   "metadata": {},
   "outputs": [],
   "source": [
    "import requests\n",
    "import json\n",
    "from IPython.display import display, JSON"
   ]
  },
  {
   "cell_type": "code",
   "execution_count": 2,
   "id": "9fa71442-7f34-45df-92ce-8b32341eee4b",
   "metadata": {},
   "outputs": [],
   "source": [
    "endpoint = \"https://localhost:7275\""
   ]
  },
  {
   "cell_type": "markdown",
   "id": "342240e5-9cc4-46af-a97a-483874d9592e",
   "metadata": {},
   "source": [
    "## List Users"
   ]
  },
  {
   "cell_type": "code",
   "execution_count": 4,
   "id": "a2683c3c-7eac-4eaf-94e0-a4cf8a4096e1",
   "metadata": {},
   "outputs": [
    {
     "name": "stderr",
     "output_type": "stream",
     "text": [
      "c:\\users\\bryan\\source\\repos\\rookprompt\\rookprompttools\\venv\\lib\\site-packages\\urllib3\\connectionpool.py:1050: InsecureRequestWarning: Unverified HTTPS request is being made to host 'localhost'. Adding certificate verification is strongly advised. See: https://urllib3.readthedocs.io/en/1.26.x/advanced-usage.html#ssl-warnings\n",
      "  InsecureRequestWarning,\n"
     ]
    },
    {
     "data": {
      "application/json": [],
      "text/plain": [
       "<IPython.core.display.JSON object>"
      ]
     },
     "execution_count": 4,
     "metadata": {
      "application/json": {
       "expanded": false,
       "root": "root"
      }
     },
     "output_type": "execute_result"
    }
   ],
   "source": [
    "users = requests.get(f\"{endpoint}/users\", verify=False).json()\n",
    "JSON(users)"
   ]
  },
  {
   "cell_type": "code",
   "execution_count": null,
   "id": "87047873-8852-48f0-8ab9-798613fa1d51",
   "metadata": {},
   "outputs": [],
   "source": []
  }
 ],
 "metadata": {
  "kernelspec": {
   "display_name": "Python 3 (ipykernel)",
   "language": "python",
   "name": "python3"
  },
  "language_info": {
   "codemirror_mode": {
    "name": "ipython",
    "version": 3
   },
   "file_extension": ".py",
   "mimetype": "text/x-python",
   "name": "python",
   "nbconvert_exporter": "python",
   "pygments_lexer": "ipython3",
   "version": "3.7.6"
  }
 },
 "nbformat": 4,
 "nbformat_minor": 5
}
