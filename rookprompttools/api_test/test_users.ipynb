{
 "cells": [
  {
   "cell_type": "markdown",
   "id": "75bd5d0d-0a86-493a-bea0-fd75d9055600",
   "metadata": {},
   "source": [
    "# Test Users"
   ]
  },
  {
   "cell_type": "code",
   "execution_count": 1,
   "id": "c0cc1255-f1c2-4603-85b8-10ff6c940bb6",
   "metadata": {},
   "outputs": [],
   "source": [
    "import requests\n",
    "import json\n",
    "from IPython.display import display, JSON"
   ]
  },
  {
   "cell_type": "code",
   "execution_count": 2,
   "id": "9fa71442-7f34-45df-92ce-8b32341eee4b",
   "metadata": {},
   "outputs": [],
   "source": [
    "endpoint = \"https://localhost:7275/api\""
   ]
  },
  {
   "cell_type": "markdown",
   "id": "342240e5-9cc4-46af-a97a-483874d9592e",
   "metadata": {},
   "source": [
    "## List Users"
   ]
  },
  {
   "cell_type": "code",
   "execution_count": 3,
   "id": "a2683c3c-7eac-4eaf-94e0-a4cf8a4096e1",
   "metadata": {},
   "outputs": [
    {
     "name": "stderr",
     "output_type": "stream",
     "text": [
      "c:\\users\\bryan\\source\\repos\\rookprompt\\rookprompttools\\venv\\lib\\site-packages\\urllib3\\connectionpool.py:1050: InsecureRequestWarning: Unverified HTTPS request is being made to host 'localhost'. Adding certificate verification is strongly advised. See: https://urllib3.readthedocs.io/en/1.26.x/advanced-usage.html#ssl-warnings\n",
      "  InsecureRequestWarning,\n"
     ]
    },
    {
     "data": {
      "application/json": [
       {
        "created": "2022-03-01T06:07:11.035Z",
        "email": "bob@foo.com",
        "id": "621db80fe51a818c9860d47e",
        "name": "bob",
        "roles": [],
        "updated": "2022-03-01T06:07:11.035Z"
       }
      ],
      "text/plain": [
       "<IPython.core.display.JSON object>"
      ]
     },
     "execution_count": 3,
     "metadata": {
      "application/json": {
       "expanded": false,
       "root": "root"
      }
     },
     "output_type": "execute_result"
    }
   ],
   "source": [
    "users = requests.get(f\"{endpoint}/users\", verify=False).json()\n",
    "JSON(users)"
   ]
  },
  {
   "cell_type": "markdown",
   "id": "5d5bc171-5490-42f1-a915-e5a0dd99536e",
   "metadata": {},
   "source": [
    "## Create User"
   ]
  },
  {
   "cell_type": "code",
   "execution_count": null,
   "id": "77067f93-c9c6-45b4-b61a-4a94bf31e8c6",
   "metadata": {},
   "outputs": [
    {
     "name": "stderr",
     "output_type": "stream",
     "text": [
      "c:\\users\\bryan\\source\\repos\\rookprompt\\rookprompttools\\venv\\lib\\site-packages\\urllib3\\connectionpool.py:1050: InsecureRequestWarning: Unverified HTTPS request is being made to host 'localhost'. Adding certificate verification is strongly advised. See: https://urllib3.readthedocs.io/en/1.26.x/advanced-usage.html#ssl-warnings\n",
      "  InsecureRequestWarning,\n"
     ]
    }
   ],
   "source": [
    "userRequest = {\n",
    "    \"name\": \"bob\",\n",
    "    \"email\": \"bob@foo.com\",\n",
    "    \"emailVerify\": \"bob@foo.com\",\n",
    "    \"password\": \"password\",\n",
    "    \"passwordVerify\": \"password\"\n",
    "}\n",
    "r = requests.post(f\"{endpoint}/users\", json=userRequest, verify=False)\n",
    "JSON(r.json())"
   ]
  },
  {
   "cell_type": "markdown",
   "id": "6fae8daa-f78a-4263-aa37-a3edff5383aa",
   "metadata": {},
   "source": [
    "## Login User"
   ]
  },
  {
   "cell_type": "code",
   "execution_count": 10,
   "id": "19caa8fc-d03a-4952-a5e3-ab746d3e68df",
   "metadata": {},
   "outputs": [
    {
     "name": "stderr",
     "output_type": "stream",
     "text": [
      "c:\\users\\bryan\\source\\repos\\rookprompt\\rookprompttools\\venv\\lib\\site-packages\\urllib3\\connectionpool.py:1050: InsecureRequestWarning: Unverified HTTPS request is being made to host 'localhost'. Adding certificate verification is strongly advised. See: https://urllib3.readthedocs.io/en/1.26.x/advanced-usage.html#ssl-warnings\n",
      "  InsecureRequestWarning,\n"
     ]
    },
    {
     "data": {
      "application/json": {
       "Details": "   at <StartupCode$rookpromptapi>.$UserController.Login@124-2.Invoke(UserCredential _arg6) in C:\\Users\\bryan\\source\\repos\\rookprompt\\rookpromptapi\\rookpromptapi\\Controllers\\UserController.fs:line 127\r\n   at Microsoft.FSharp.Control.AsyncPrimitives.CallThenInvokeNoHijackCheck[a,b](AsyncActivation`1 ctxt, b result1, FSharpFunc`2 userCode) in D:\\a\\_work\\1\\s\\src\\fsharp\\FSharp.Core\\async.fs:line 464\r\n   at <StartupCode$rookpromptapi>.$UserController.getUserCredential@118-4.Invoke(AsyncActivation`1 ctxt) in C:\\Users\\bryan\\source\\repos\\rookprompt\\rookpromptapi\\rookpromptapi\\Controllers\\UserController.fs:line 118\r\n   at rookpromptapi.Services.Mongo.MongoXModule.findOneAsync@34-3.Invoke(AsyncActivation`1 ctxt) in C:\\Users\\bryan\\source\\repos\\rookprompt\\rookpromptapi\\rookpromptapi\\Services\\Mongo\\MongoX.fs:line 34\r\n   at rookpromptapi.Services.Mongo.MongoXModule.findOneAsync@33-4.Invoke(AsyncActivation`1 ctxt) in C:\\Users\\bryan\\source\\repos\\rookprompt\\rookpromptapi\\rookpromptapi\\Services\\Mongo\\MongoX.fs:line 33\r\n   at Microsoft.FSharp.Control.Trampoline.Execute(FSharpFunc`2 firstAction) in D:\\a\\_work\\1\\s\\src\\fsharp\\FSharp.Core\\async.fs:line 104\r\n--- End of stack trace from previous location ---\r\n   at lambda_method12(Closure , Object )\r\n   at Microsoft.AspNetCore.Mvc.Infrastructure.ActionMethodExecutor.AwaitableObjectResultExecutor.Execute(IActionResultTypeMapper mapper, ObjectMethodExecutor executor, Object controller, Object[] arguments)\r\n   at Microsoft.AspNetCore.Mvc.Infrastructure.ControllerActionInvoker.<InvokeActionMethodAsync>g__Awaited|12_0(ControllerActionInvoker invoker, ValueTask`1 actionResultValueTask)\r\n   at Microsoft.AspNetCore.Mvc.Infrastructure.ControllerActionInvoker.<InvokeNextActionFilterAsync>g__Awaited|10_0(ControllerActionInvoker invoker, Task lastTask, State next, Scope scope, Object state, Boolean isCompleted)\r\n   at Microsoft.AspNetCore.Mvc.Infrastructure.ControllerActionInvoker.Rethrow(ActionExecutedContextSealed context)\r\n   at Microsoft.AspNetCore.Mvc.Infrastructure.ControllerActionInvoker.Next(State& next, Scope& scope, Object& state, Boolean& isCompleted)\r\n   at Microsoft.AspNetCore.Mvc.Infrastructure.ControllerActionInvoker.<InvokeInnerFilterAsync>g__Awaited|13_0(ControllerActionInvoker invoker, Task lastTask, State next, Scope scope, Object state, Boolean isCompleted)\r\n   at Microsoft.AspNetCore.Mvc.Infrastructure.ResourceInvoker.<InvokeFilterPipelineAsync>g__Awaited|20_0(ResourceInvoker invoker, Task lastTask, State next, Scope scope, Object state, Boolean isCompleted)\r\n   at Microsoft.AspNetCore.Mvc.Infrastructure.ResourceInvoker.<InvokeAsync>g__Awaited|17_0(ResourceInvoker invoker, Task task, IDisposable scope)\r\n   at Microsoft.AspNetCore.Mvc.Infrastructure.ResourceInvoker.<InvokeAsync>g__Awaited|17_0(ResourceInvoker invoker, Task task, IDisposable scope)\r\n   at Microsoft.AspNetCore.Routing.EndpointMiddleware.<Invoke>g__AwaitRequestTask|6_0(Endpoint endpoint, Task requestTask, ILogger logger)\r\n   at Microsoft.AspNetCore.Authorization.AuthorizationMiddleware.Invoke(HttpContext context)\r\n   at rookpromptapi.Middleware.InvokeAsync@47.MoveNext() in C:\\Users\\bryan\\source\\repos\\rookprompt\\rookpromptapi\\rookpromptapi\\Middleware\\ExceptionResponseMapper.fs:line 48",
       "ErrorType": "LoginError"
      },
      "text/plain": [
       "<IPython.core.display.JSON object>"
      ]
     },
     "execution_count": 10,
     "metadata": {
      "application/json": {
       "expanded": false,
       "root": "root"
      }
     },
     "output_type": "execute_result"
    }
   ],
   "source": [
    "loginRequest = {\n",
    "    \"email\": \"bob@foo.com\",\n",
    "    \"password\": \"password\"\n",
    "}\n",
    "r = requests.post(f\"{endpoint}/login\", json=loginRequest, verify=False)\n",
    "JSON(r.json())"
   ]
  },
  {
   "cell_type": "code",
   "execution_count": null,
   "id": "e7d8c486-484e-4db2-9acb-2f9445f1478b",
   "metadata": {},
   "outputs": [],
   "source": []
  }
 ],
 "metadata": {
  "kernelspec": {
   "display_name": "Python 3 (ipykernel)",
   "language": "python",
   "name": "python3"
  },
  "language_info": {
   "codemirror_mode": {
    "name": "ipython",
    "version": 3
   },
   "file_extension": ".py",
   "mimetype": "text/x-python",
   "name": "python",
   "nbconvert_exporter": "python",
   "pygments_lexer": "ipython3",
   "version": "3.7.6"
  }
 },
 "nbformat": 4,
 "nbformat_minor": 5
}
