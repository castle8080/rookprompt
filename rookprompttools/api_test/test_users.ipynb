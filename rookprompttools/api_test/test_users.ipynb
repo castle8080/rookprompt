{
 "cells": [
  {
   "cell_type": "markdown",
   "id": "75bd5d0d-0a86-493a-bea0-fd75d9055600",
   "metadata": {},
   "source": [
    "# Test Users"
   ]
  },
  {
   "cell_type": "code",
   "execution_count": 24,
   "id": "c0cc1255-f1c2-4603-85b8-10ff6c940bb6",
   "metadata": {},
   "outputs": [],
   "source": [
    "import requests\n",
    "import json\n",
    "from IPython.display import display, JSON"
   ]
  },
  {
   "cell_type": "code",
   "execution_count": 25,
   "id": "9fa71442-7f34-45df-92ce-8b32341eee4b",
   "metadata": {},
   "outputs": [],
   "source": [
    "endpoint = \"https://localhost:7275/api\""
   ]
  },
  {
   "cell_type": "markdown",
   "id": "342240e5-9cc4-46af-a97a-483874d9592e",
   "metadata": {},
   "source": [
    "## List Users"
   ]
  },
  {
   "cell_type": "code",
   "execution_count": 26,
   "id": "a2683c3c-7eac-4eaf-94e0-a4cf8a4096e1",
   "metadata": {},
   "outputs": [
    {
     "name": "stderr",
     "output_type": "stream",
     "text": [
      "c:\\users\\bryan\\source\\repos\\rookprompt\\rookprompttools\\venv\\lib\\site-packages\\urllib3\\connectionpool.py:1050: InsecureRequestWarning: Unverified HTTPS request is being made to host 'localhost'. Adding certificate verification is strongly advised. See: https://urllib3.readthedocs.io/en/1.26.x/advanced-usage.html#ssl-warnings\n",
      "  InsecureRequestWarning,\n"
     ]
    },
    {
     "data": {
      "application/json": [
       {
        "created": "2022-03-01T05:48:19.172Z",
        "email": "bob@foo.com",
        "id": "621db3a3aa597227da6a105b",
        "name": "bob",
        "roles": [],
        "updated": "2022-03-01T05:48:19.172Z"
       }
      ],
      "text/plain": [
       "<IPython.core.display.JSON object>"
      ]
     },
     "execution_count": 26,
     "metadata": {
      "application/json": {
       "expanded": false,
       "root": "root"
      }
     },
     "output_type": "execute_result"
    }
   ],
   "source": [
    "users = requests.get(f\"{endpoint}/users\", verify=False).json()\n",
    "JSON(users)"
   ]
  },
  {
   "cell_type": "markdown",
   "id": "5d5bc171-5490-42f1-a915-e5a0dd99536e",
   "metadata": {},
   "source": [
    "## Create User"
   ]
  },
  {
   "cell_type": "code",
   "execution_count": 28,
   "id": "77067f93-c9c6-45b4-b61a-4a94bf31e8c6",
   "metadata": {},
   "outputs": [
    {
     "name": "stderr",
     "output_type": "stream",
     "text": [
      "c:\\users\\bryan\\source\\repos\\rookprompt\\rookprompttools\\venv\\lib\\site-packages\\urllib3\\connectionpool.py:1050: InsecureRequestWarning: Unverified HTTPS request is being made to host 'localhost'. Adding certificate verification is strongly advised. See: https://urllib3.readthedocs.io/en/1.26.x/advanced-usage.html#ssl-warnings\n",
      "  InsecureRequestWarning,\n"
     ]
    },
    {
     "data": {
      "application/json": {
       "created": "2022-03-01T06:07:11.035Z",
       "email": "bob@foo.com",
       "id": "621db80fe51a818c9860d47e",
       "name": "bob",
       "roles": [],
       "updated": "2022-03-01T06:07:11.035Z"
      },
      "text/plain": [
       "<IPython.core.display.JSON object>"
      ]
     },
     "execution_count": 28,
     "metadata": {
      "application/json": {
       "expanded": false,
       "root": "root"
      }
     },
     "output_type": "execute_result"
    }
   ],
   "source": [
    "userRequest = {\n",
    "    \"name\": \"bob\",\n",
    "    \"email\": \"bob@foo.com\",\n",
    "    \"emailVerify\": \"bob@foo.com\",\n",
    "    \"password\": \"password\",\n",
    "    \"passwordVerify\": \"password\"\n",
    "}\n",
    "r = requests.post(f\"{endpoint}/users\", json=userRequest, verify=False)\n",
    "JSON(r.json()) if r.status_code == 200 else r.text"
   ]
  },
  {
   "cell_type": "markdown",
   "id": "6fae8daa-f78a-4263-aa37-a3edff5383aa",
   "metadata": {},
   "source": [
    "## Login User"
   ]
  },
  {
   "cell_type": "code",
   "execution_count": 39,
   "id": "19caa8fc-d03a-4952-a5e3-ab746d3e68df",
   "metadata": {},
   "outputs": [
    {
     "name": "stderr",
     "output_type": "stream",
     "text": [
      "c:\\users\\bryan\\source\\repos\\rookprompt\\rookprompttools\\venv\\lib\\site-packages\\urllib3\\connectionpool.py:1050: InsecureRequestWarning: Unverified HTTPS request is being made to host 'localhost'. Adding certificate verification is strongly advised. See: https://urllib3.readthedocs.io/en/1.26.x/advanced-usage.html#ssl-warnings\n",
      "  InsecureRequestWarning,\n"
     ]
    },
    {
     "data": {
      "application/json": {
       "token": "you logged in"
      },
      "text/plain": [
       "<IPython.core.display.JSON object>"
      ]
     },
     "execution_count": 39,
     "metadata": {
      "application/json": {
       "expanded": false,
       "root": "root"
      }
     },
     "output_type": "execute_result"
    }
   ],
   "source": [
    "loginRequest = {\n",
    "    \"email\": \"bob@foo.com\",\n",
    "    \"password\": \"password\"\n",
    "}\n",
    "r = requests.post(f\"{endpoint}/login\", json=loginRequest, verify=False)\n",
    "JSON(r.json()) if r.status_code == 200 else r.text"
   ]
  },
  {
   "cell_type": "code",
   "execution_count": null,
   "id": "ecf7191c-a52f-4e19-9b04-5844703b1cbb",
   "metadata": {},
   "outputs": [],
   "source": []
  }
 ],
 "metadata": {
  "kernelspec": {
   "display_name": "Python 3 (ipykernel)",
   "language": "python",
   "name": "python3"
  },
  "language_info": {
   "codemirror_mode": {
    "name": "ipython",
    "version": 3
   },
   "file_extension": ".py",
   "mimetype": "text/x-python",
   "name": "python",
   "nbconvert_exporter": "python",
   "pygments_lexer": "ipython3",
   "version": "3.7.6"
  }
 },
 "nbformat": 4,
 "nbformat_minor": 5
}
